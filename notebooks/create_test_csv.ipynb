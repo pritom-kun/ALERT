{
 "cells": [
  {
   "cell_type": "code",
   "execution_count": 19,
   "id": "36791338",
   "metadata": {},
   "outputs": [
    {
     "name": "stdout",
     "output_type": "stream",
     "text": [
      "saves\n",
      "Number of categories: 50\n"
     ]
    },
    {
     "name": "stderr",
     "output_type": "stream",
     "text": [
      "/home/pks230000/miniconda3/envs/torch_p313/lib/python3.13/site-packages/sklearn/preprocessing/_label.py:129: DataConversionWarning: A column-vector y was passed when a 1d array was expected. Please change the shape of y to (n_samples, ), for example using ravel().\n",
      "  y = column_or_1d(y, dtype=self.classes_.dtype, warn=True)\n"
     ]
    },
    {
     "name": "stdout",
     "output_type": "stream",
     "text": [
      "                                                text original_label\n",
      "0          has the ability to communicate over HTTP.          T1071\n",
      "1  In addition to obfuscation techniques, it also...          T1518\n",
      "2  can use `cmd.exe` to execute commands on a vic...          T1059\n",
      "3  attempted to masquerade their files as popular...          T1036\n",
      "4                      to start the download process          T1105\n"
     ]
    }
   ],
   "source": [
    "import json\n",
    "import pickle\n",
    "import pandas as pd\n",
    "\n",
    "from data.tabular import TabularDataset\n",
    "\n",
    "def get_original_test_labels(save_dir, data_path):\n",
    "    # Load splits\n",
    "    print(save_dir)\n",
    "    splits_file = f\"{save_dir}/splits_seed_1.json\"\n",
    "    with open(splits_file, 'r') as f:\n",
    "        splits = json.load(f)\n",
    "    \n",
    "    # Load label encoder\n",
    "    with open(f\"{save_dir}/label_encoder.pkl\", 'rb') as f:\n",
    "        encoder = pickle.load(f)\n",
    "    \n",
    "    # Recreate dataset to access original indices\n",
    "    dataset = TabularDataset(data_path, save_dir)\n",
    "    \n",
    "    # Get all test indices (ID + OOD)\n",
    "    all_test_indices = splits['test_idx']\n",
    "    \n",
    "    # Get encoded labels and convert to original\n",
    "    encoded_labels = dataset.targets[all_test_indices].cpu().numpy()\n",
    "    original_labels = encoder.inverse_transform(encoded_labels)\n",
    "    \n",
    "    # Get original texts from raw data\n",
    "    with open(data_path) as f:\n",
    "        data_json = json.load(f)\n",
    "    \n",
    "    text_df = pd.DataFrame([\n",
    "        {'text': row['text'], 'label': row['mappings'][0]['attack_id']}\n",
    "        for row in data_json['sentences']\n",
    "        if len(row['mappings']) > 0\n",
    "    ])\n",
    "    \n",
    "    return pd.DataFrame({\n",
    "        'text': text_df.iloc[all_test_indices]['text'].values,\n",
    "        'original_label': [label.split('.')[0] for label in original_labels]\n",
    "    })\n",
    "\n",
    "# Usage\n",
    "test_df = get_original_test_labels(\n",
    "    save_dir=\"saves\",\n",
    "    data_path=\"data/tabular/training-data.json\"  # Replace with actual path\n",
    ")\n",
    "print(test_df.head())\n",
    "\n",
    "test_df.to_csv(\"saves/test_labels.csv\", index=False)\n"
   ]
  }
 ],
 "metadata": {
  "kernelspec": {
   "display_name": "torch_p313",
   "language": "python",
   "name": "python3"
  },
  "language_info": {
   "codemirror_mode": {
    "name": "ipython",
    "version": 3
   },
   "file_extension": ".py",
   "mimetype": "text/x-python",
   "name": "python",
   "nbconvert_exporter": "python",
   "pygments_lexer": "ipython3",
   "version": "3.13.2"
  }
 },
 "nbformat": 4,
 "nbformat_minor": 5
}
